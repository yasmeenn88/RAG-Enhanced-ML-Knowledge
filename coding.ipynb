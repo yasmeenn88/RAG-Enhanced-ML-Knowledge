{
 "cells": [
  {
   "cell_type": "code",
   "id": "initial_id",
   "metadata": {
    "collapsed": true,
    "ExecuteTime": {
     "end_time": "2025-08-29T22:00:20.952224Z",
     "start_time": "2025-08-29T22:00:18.360067Z"
    }
   },
   "source": [
    "import os\n",
    "import re\n",
    "import json\n",
    "import numpy as np\n",
    "from pypdf import PdfReader\n",
    "from dotenv import load_dotenv\n",
    "import google.generativeai as genai\n",
    "from dotenv import load_dotenv\n",
    "from numpy.linalg import n\n"
   ],
   "outputs": [],
   "execution_count": 1
  },
  {
   "metadata": {
    "ExecuteTime": {
     "end_time": "2025-08-29T22:00:21.022916Z",
     "start_time": "2025-08-29T22:00:21.013788Z"
    }
   },
   "cell_type": "code",
   "source": [
    "def load_pdf(path: str) -> str:\n",
    "    reader = PdfReader(path)\n",
    "    all_text = []\n",
    "    for page in reader.pages:\n",
    "        text = page.extract_text() or \"\"\n",
    "        all_text.append(text)\n",
    "\n",
    "    big_text = \" \".join(all_text)\n",
    "    cleaned = \" \".join(big_text.split())\n",
    "\n",
    "    return cleaned"
   ],
   "id": "e155aea5dd5865ad",
   "outputs": [],
   "execution_count": 2
  },
  {
   "metadata": {
    "ExecuteTime": {
     "end_time": "2025-08-29T22:00:33.843793Z",
     "start_time": "2025-08-29T22:00:21.041905Z"
    }
   },
   "cell_type": "code",
   "source": [
    "\n",
    "if __name__ == \"__main__\":\n",
    "    pdf_path = \"data/Machine Learning for Absolute Beginners.pdf\"\n",
    "    text = load_pdf(pdf_path)\n",
    "    print(\"Num of chars:\", len(text))\n",
    "    print(\"First 400 chars:\\n\", text[:400])\n",
    "\n"
   ],
   "id": "bb57fbe65558c73e",
   "outputs": [
    {
     "name": "stdout",
     "output_type": "stream",
     "text": [
      "Num of chars: 215992\n",
      "First 400 chars:\n",
      " Machine Learning For Absolute Beginners: A Plain English Introduction Third Edition Oliver Theobald Third Edition Copyright © 2021 by Oliver Theobald All rights reserved. No part of this publication may be reproduced, distributed, or transmitted in any form or by any means, including photocopying, recording, or other electronic or mechanical methods, without the prior written permission of the pub\n"
     ]
    }
   ],
   "execution_count": 3
  },
  {
   "metadata": {
    "ExecuteTime": {
     "end_time": "2025-08-29T22:00:33.876813Z",
     "start_time": "2025-08-29T22:00:33.868922Z"
    }
   },
   "cell_type": "code",
   "source": [
    "def chunkify(text: str, chunk_size: int = 500, overlap: int = 100) -> list[str]:\n",
    "    words = text.split()\n",
    "    chunks = []\n",
    "    step = chunk_size - overlap\n",
    "    for i in range(0, len(words), step):\n",
    "        chunk = words[i:i + chunk_size]\n",
    "        if chunk:\n",
    "            chunks.append(\" \".join(chunk))\n",
    "    return chunks\n"
   ],
   "id": "426701ab60b898c5",
   "outputs": [],
   "execution_count": 4
  },
  {
   "metadata": {
    "ExecuteTime": {
     "end_time": "2025-08-29T22:00:52.460521Z",
     "start_time": "2025-08-29T22:00:33.890809Z"
    }
   },
   "cell_type": "code",
   "source": [
    "if __name__ == \"__main__\":\n",
    "    pdf_path = \"data/Machine Learning for Absolute Beginners.pdf\"\n",
    "    text = load_pdf(pdf_path)\n",
    "    chunks = chunkify(text)\n",
    "    print(\"Num of chunks:\", len(chunks))\n",
    "    print(\"First chunk:\\n\", chunks[0][:400])\n",
    "\n"
   ],
   "id": "7730532a6c10ee47",
   "outputs": [
    {
     "name": "stdout",
     "output_type": "stream",
     "text": [
      "Num of chunks: 86\n",
      "First chunk:\n",
      " Machine Learning For Absolute Beginners: A Plain English Introduction Third Edition Oliver Theobald Third Edition Copyright © 2021 by Oliver Theobald All rights reserved. No part of this publication may be reproduced, distributed, or transmitted in any form or by any means, including photocopying, recording, or other electronic or mechanical methods, without the prior written permission of the pub\n"
     ]
    }
   ],
   "execution_count": 5
  },
  {
   "metadata": {
    "ExecuteTime": {
     "end_time": "2025-08-29T22:00:52.498697Z",
     "start_time": "2025-08-29T22:00:52.485812Z"
    }
   },
   "cell_type": "code",
   "source": [
    "load_dotenv()\n",
    "genai.configure(api_key=os.getenv(\"GEMINI_API_KEY\"))\n",
    "\n",
    "def embed_texts(texts: list[str]) -> list[list[float]]:\n",
    "    model = \"models/text-embedding-004\"\n",
    "    embeddings = []\n",
    "    for t in texts:\n",
    "        res = genai.embed_content(model=model, content=t)\n",
    "        embeddings.append(res[\"embedding\"])\n",
    "    return embeddings\n",
    "\n",
    "def embed_query(query: str) -> list[float]:\n",
    "    model = \"models/text-embedding-004\"\n",
    "    res = genai.embed_content(model=model, content=query)\n",
    "    return res[\"embedding\"]\n",
    "\n"
   ],
   "id": "99bbd804814d2109",
   "outputs": [],
   "execution_count": 6
  },
  {
   "metadata": {
    "ExecuteTime": {
     "end_time": "2025-08-29T22:01:47.459706Z",
     "start_time": "2025-08-29T22:00:52.527507Z"
    }
   },
   "cell_type": "code",
   "source": [
    "def save_data(chunks: list[str], embeddings: list[list[float]], out_dir=\"store\"):\n",
    "    os.makedirs(out_dir, exist_ok=True)\n",
    "\n",
    "    with open(os.path.join(out_dir, \"chunks.json\"), \"w\", encoding=\"utf-8\") as f:\n",
    "        json.dump(chunks, f, ensure_ascii=False, indent=2)\n",
    "\n",
    "    np.save(os.path.join(out_dir, \"vectors.npy\"), np.array(embeddings))\n",
    "\n",
    "if __name__ == \"__main__\":\n",
    "    pdf_path = \"data/Machine Learning for Absolute Beginners.pdf\"\n",
    "    text = load_pdf(pdf_path)\n",
    "    chunks = chunkify(text)\n",
    "    vecs = embed_texts(chunks)\n",
    "    save_data(chunks, vecs)\n",
    "    print(\"Saved:\", len(chunks), \"chunks and vectors\")\n"
   ],
   "id": "34211679a15b1001",
   "outputs": [
    {
     "name": "stdout",
     "output_type": "stream",
     "text": [
      "Saved: 86 chunks and vectors\n"
     ]
    }
   ],
   "execution_count": 7
  },
  {
   "metadata": {
    "ExecuteTime": {
     "end_time": "2025-08-29T22:01:47.571158Z",
     "start_time": "2025-08-29T22:01:47.563831Z"
    }
   },
   "cell_type": "code",
   "source": "",
   "id": "4d3ee2c15b4920b9",
   "outputs": [],
   "execution_count": null
  },
  {
   "metadata": {
    "ExecuteTime": {
     "end_time": "2025-08-29T22:01:48.378804Z",
     "start_time": "2025-08-29T22:01:47.601154Z"
    }
   },
   "cell_type": "code",
   "source": [
    "if __name__ == \"__main__\":\n",
    "    # quick test\n",
    "    test = [\"machine learning is fun\", \"support vector machines are powerful\"]\n",
    "    vecs = embed_texts(test)\n",
    "    print(\"Num of vectors:\", len(vecs))\n",
    "    print(\"Dim of first vector:\", len(vecs[0]))"
   ],
   "id": "46bb7137a527ac26",
   "outputs": [
    {
     "name": "stdout",
     "output_type": "stream",
     "text": [
      "Num of vectors: 2\n",
      "Dim of first vector: 768\n"
     ]
    }
   ],
   "execution_count": 8
  },
  {
   "metadata": {
    "ExecuteTime": {
     "end_time": "2025-08-29T22:01:48.451480Z",
     "start_time": "2025-08-29T22:01:48.444158Z"
    }
   },
   "cell_type": "code",
   "source": "",
   "id": "d66b1b50807f84c8",
   "outputs": [],
   "execution_count": null
  },
  {
   "metadata": {
    "ExecuteTime": {
     "end_time": "2025-08-29T22:01:48.479895Z",
     "start_time": "2025-08-29T22:01:48.473596Z"
    }
   },
   "cell_type": "code",
   "source": "",
   "id": "a0e7d7a51a814b40",
   "outputs": [],
   "execution_count": null
  },
  {
   "metadata": {
    "ExecuteTime": {
     "end_time": "2025-08-29T22:01:48.542129Z",
     "start_time": "2025-08-29T22:01:48.536824Z"
    }
   },
   "cell_type": "code",
   "source": "",
   "id": "93cb5c240d016ffa",
   "outputs": [],
   "execution_count": null
  },
  {
   "metadata": {
    "ExecuteTime": {
     "end_time": "2025-08-29T22:01:48.579415Z",
     "start_time": "2025-08-29T22:01:48.568728Z"
    }
   },
   "cell_type": "code",
   "source": [
    "def cosine_similarity(a, b):\n",
    "    return np.dot(a, b) / (norm(a) * norm(b))\n",
    "\n",
    "def search_chunks(query: str, k: int = 3):\n",
    "    # load data\n",
    "    with open(\"store/chunks.json\", \"r\", encoding=\"utf-8\") as f:\n",
    "        chunks = json.load(f)\n",
    "    vectors = np.load(\"store/vectors.npy\")\n",
    "\n",
    "    # embed query\n",
    "    q_vec = embed_query(query)\n",
    "\n",
    "    # calc similarities\n",
    "    sims = [cosine_similarity(q_vec, v) for v in vectors]\n",
    "\n",
    "    # sort by similarity\n",
    "    top_idx = np.argsort(sims)[::-1][:k]\n",
    "\n",
    "    results = [(chunks[i], sims[i]) for i in top_idx]\n",
    "    return results\n"
   ],
   "id": "c5fa92825e7a8e0",
   "outputs": [],
   "execution_count": 9
  },
  {
   "metadata": {
    "ExecuteTime": {
     "end_time": "2025-08-29T22:01:49.047071Z",
     "start_time": "2025-08-29T22:01:48.605340Z"
    }
   },
   "cell_type": "code",
   "source": [
    "\n",
    "res = search_chunks(\"What is supervised learning?\")\n",
    "for chunk, score in res:\n",
    "    print(score, chunk[:200], \"\\n\")"
   ],
   "id": "297831f796c01ae6",
   "outputs": [
    {
     "name": "stdout",
     "output_type": "stream",
     "text": [
      "0.6868268455194421 from supervised learning. We will cover unsupervised learning later in this book specific to k -means clustering. Other examples of unsupervised learning algorithms include social network analysis and \n",
      "\n",
      "0.6828128523233977 the input data. The market price of your used Lexus, for example, can be estimated using the labeled examples of other cars recently sold on a used car website. Table 2: Extract of a used car dataset  \n",
      "\n",
      "0.6513971422071261 both teams make a living excavating historical sites to discover valuable insight, their goals and methodology are different. The machine learning team invests in self-learning to create a system that \n",
      "\n"
     ]
    }
   ],
   "execution_count": 10
  },
  {
   "metadata": {
    "ExecuteTime": {
     "end_time": "2025-08-29T22:03:41.336758Z",
     "start_time": "2025-08-29T22:03:41.329062Z"
    }
   },
   "cell_type": "code",
   "source": [
    "def ask_rag(query: str, k: int = 3):\n",
    "    results = search_chunks(query, k)\n",
    "    context = \"\\n\\n\".join([r[0] for r in results])\n",
    "\n",
    "    prompt = f\"\"\"\n",
    "    Answer the question based on the context below.\n",
    "    If the answer is not in the context, say you don't know.\n",
    "\n",
    "    Context:\n",
    "    {context}\n",
    "\n",
    "    Question:\n",
    "    {query}\n",
    "    \"\"\"\n",
    "\n",
    "    model = genai.GenerativeModel(\"gemini-1.5-flash\")\n",
    "    response = model.generate_content(prompt)\n",
    "    return response.text\n"
   ],
   "id": "6a9bc5d97bc37a52",
   "outputs": [],
   "execution_count": 11
  },
  {
   "metadata": {
    "ExecuteTime": {
     "end_time": "2025-08-29T22:03:50.929259Z",
     "start_time": "2025-08-29T22:03:49.117219Z"
    }
   },
   "cell_type": "code",
   "source": [
    "if __name__ == \"__main__\":\n",
    "    answer = ask_rag(\"What is supervised learning?\")\n",
    "    print(\"Answer:\", answer)\n"
   ],
   "id": "9c2f08a83689cfd6",
   "outputs": [
    {
     "name": "stdout",
     "output_type": "stream",
     "text": [
      "Answer: Supervised learning imitates the ability to extract patterns from known examples and use that insight to engineer a repeatable outcome.  It analyzes and deciphers the relationship between input (independent variable X) and output (dependent variable y) data to learn underlying patterns.  The model then predicts an output based exclusively on input data.  Examples of algorithms used in supervised learning include regression analysis, decision trees, k-nearest neighbors, neural networks, and support vector machines.\n",
      "\n"
     ]
    }
   ],
   "execution_count": 12
  },
  {
   "metadata": {
    "ExecuteTime": {
     "end_time": "2025-08-29T22:01:49.145085Z",
     "start_time": "2025-08-29T22:01:49.140402Z"
    }
   },
   "cell_type": "code",
   "source": "",
   "id": "7c036993a63ae95b",
   "outputs": [],
   "execution_count": null
  },
  {
   "metadata": {},
   "cell_type": "code",
   "outputs": [],
   "execution_count": null,
   "source": "",
   "id": "9a8fe0a90a3426d0"
  },
  {
   "metadata": {},
   "cell_type": "code",
   "outputs": [],
   "execution_count": null,
   "source": "",
   "id": "961eb275fad4ec00"
  }
 ],
 "metadata": {
  "kernelspec": {
   "display_name": "Python 3",
   "language": "python",
   "name": "python3"
  },
  "language_info": {
   "codemirror_mode": {
    "name": "ipython",
    "version": 2
   },
   "file_extension": ".py",
   "mimetype": "text/x-python",
   "name": "python",
   "nbconvert_exporter": "python",
   "pygments_lexer": "ipython2",
   "version": "2.7.6"
  }
 },
 "nbformat": 4,
 "nbformat_minor": 5
}
